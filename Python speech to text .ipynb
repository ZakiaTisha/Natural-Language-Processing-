{
 "cells": [
  {
   "cell_type": "code",
   "execution_count": null,
   "metadata": {},
   "outputs": [],
   "source": [
    "!pip install pipwin\n",
    "\n",
    "!pipwin install pyaudio\n",
    "# Audio to Text\n",
    "!pip install pyttsx3\n",
    "!pip install SpeechRecognition\n",
    "import pyttsx3\n",
    "import speech_recognition as sr\n",
    "\n",
    "with open('love song .txt', encoding=\"utf8\") as r_file:\n",
    "    for text in r_file.readlines():\n",
    "        engine = pyttsx3.init()\n",
    "        engine.say(text)\n",
    "        engine.save_to_file(text, 'YourAudio.wav')\n",
    "        engine.runAndWait()\n",
    "#         !pip install pyttsx3\n",
    "        \n",
    "      "
   ]
  },
  {
   "cell_type": "code",
   "execution_count": null,
   "metadata": {},
   "outputs": [],
   "source": []
  },
  {
   "cell_type": "code",
   "execution_count": null,
   "metadata": {},
   "outputs": [],
   "source": [
    "\n"
   ]
  },
  {
   "cell_type": "code",
   "execution_count": null,
   "metadata": {},
   "outputs": [],
   "source": [
    "\n"
   ]
  },
  {
   "cell_type": "code",
   "execution_count": null,
   "metadata": {},
   "outputs": [],
   "source": []
  }
 ],
 "metadata": {
  "kernelspec": {
   "display_name": "Python 3",
   "language": "python",
   "name": "python3"
  },
  "language_info": {
   "codemirror_mode": {
    "name": "ipython",
    "version": 3
   },
   "file_extension": ".py",
   "mimetype": "text/x-python",
   "name": "python",
   "nbconvert_exporter": "python",
   "pygments_lexer": "ipython3",
   "version": "3.8.5"
  }
 },
 "nbformat": 4,
 "nbformat_minor": 4
}
